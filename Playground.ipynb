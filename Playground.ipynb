{
 "cells": [
  {
   "cell_type": "markdown",
   "id": "initial-emergency",
   "metadata": {},
   "source": [
    "# Overall playground to see how to connect AutoDraft to labelme"
   ]
  },
  {
   "cell_type": "markdown",
   "id": "experimental-insulation",
   "metadata": {},
   "source": [
    "## First we need to dive into the JSON file that labelme creates in order to understand how to create one that it can then operate on"
   ]
  },
  {
   "cell_type": "code",
   "execution_count": 3,
   "id": "wireless-prefix",
   "metadata": {},
   "outputs": [],
   "source": [
    "# imports\n",
    "import numpy as np\n",
    "import json\n",
    "import pandas as pd\n",
    "import base64\n",
    "import io\n",
    "from pprint import pprint\n",
    "import PIL.Image\n",
    "from labelme import utils\n",
    "import os.path as osp\n",
    "from labelme import PY2\n",
    "from labelme import QT4\n",
    "import base64\n",
    "from labelme import __version__\n",
    "#from IPython.core.debugger import set_trace\n",
    "\n",
    "#auto-reload of python modules\n",
    "%load_ext autoreload\n",
    "%autoreload 2"
   ]
  },
  {
   "cell_type": "markdown",
   "id": "ambient-scholar",
   "metadata": {},
   "source": [
    "### First lets figure out how to use modules"
   ]
  },
  {
   "cell_type": "markdown",
   "id": "closed-sample",
   "metadata": {},
   "source": [
    "As long as the module is located within the same notebook directory it is simple to import directly. Ensure to import without the .py ending otherwise it will not import as a module."
   ]
  },
  {
   "cell_type": "code",
   "execution_count": 4,
   "id": "formed-bikini",
   "metadata": {},
   "outputs": [
    {
     "name": "stdout",
     "output_type": "stream",
     "text": [
      "I am being executed!\n"
     ]
    }
   ],
   "source": [
    "import my_module"
   ]
  },
  {
   "cell_type": "code",
   "execution_count": 5,
   "id": "indirect-livestock",
   "metadata": {},
   "outputs": [
    {
     "data": {
      "text/plain": [
       "16"
      ]
     },
     "execution_count": 5,
     "metadata": {},
     "output_type": "execute_result"
    }
   ],
   "source": [
    "my_module.square(4)"
   ]
  },
  {
   "cell_type": "code",
   "execution_count": 6,
   "id": "constant-ordinary",
   "metadata": {},
   "outputs": [
    {
     "name": "stdout",
     "output_type": "stream",
     "text": [
      "Help on module my_module:\n",
      "\n",
      "NAME\n",
      "    my_module\n",
      "\n",
      "DESCRIPTION\n",
      "    Our first Python module. This initial string is a module-level documentation string.\n",
      "    It is not a necessary component of the module. It is a useful way to describe the\n",
      "    purpose of your module.\n",
      "\n",
      "FUNCTIONS\n",
      "    cube(x)\n",
      "    \n",
      "    square(x)\n",
      "\n",
      "DATA\n",
      "    some_list = ['a', 1, None]\n",
      "\n",
      "FILE\n",
      "    /Users/blank/AutoDraft/imagery/labelme_playground/my_module.py\n",
      "\n",
      "\n"
     ]
    }
   ],
   "source": [
    "help(my_module)"
   ]
  },
  {
   "cell_type": "markdown",
   "id": "enormous-patient",
   "metadata": {},
   "source": [
    "### Viewing JSON data\n",
    "JSON data when loaded into python prints extra ugly. The following allows for much more readable viewing of JSON files"
   ]
  },
  {
   "cell_type": "code",
   "execution_count": 7,
   "id": "incorrect-gnome",
   "metadata": {},
   "outputs": [],
   "source": [
    "data = json.load(open(\"ship1.json\"))\n",
    "# print(data) ## the data prints in a difficult string fashion\n",
    "# pprint(data) ## one very quick way to print out the data. Looks okay..."
   ]
  },
  {
   "cell_type": "code",
   "execution_count": 9,
   "id": "warming-scholarship",
   "metadata": {},
   "outputs": [],
   "source": [
    "pretty_data = json.dumps(data, ensure_ascii=False, indent=4) # prints JSON beautifully with indentations\n",
    "#print(pretty_data)"
   ]
  },
  {
   "cell_type": "markdown",
   "id": "fourth-longitude",
   "metadata": {},
   "source": [
    "### Now we need to figure out how to view/save image data"
   ]
  },
  {
   "cell_type": "markdown",
   "id": "focal-charter",
   "metadata": {},
   "source": [
    "First method will be to attmept to use code within labelme"
   ]
  },
  {
   "cell_type": "code",
   "execution_count": 10,
   "id": "miniature-limitation",
   "metadata": {},
   "outputs": [],
   "source": [
    "# Function provided in labelme source code\n",
    "def load_image_file(filename):\n",
    "    try:\n",
    "        image_pil = PIL.Image.open(filename)\n",
    "    except IOError:\n",
    "        logger.error(\"Failed opening image file: {}\".format(filename))\n",
    "        return\n",
    "\n",
    "    # apply orientation to image according to exif\n",
    "    image_pil = utils.apply_exif_orientation(image_pil)\n",
    "\n",
    "    with io.BytesIO() as f:\n",
    "        ext = osp.splitext(filename)[1].lower()\n",
    "        if PY2 and QT4:\n",
    "            format = \"PNG\"\n",
    "        elif ext in [\".jpg\", \".jpeg\"]:\n",
    "            format = \"JPEG\"\n",
    "        else:\n",
    "            format = \"PNG\"\n",
    "        image_pil.save(f, format=format)\n",
    "        f.seek(0)\n",
    "        return f.read()"
   ]
  },
  {
   "cell_type": "markdown",
   "id": "german-uncertainty",
   "metadata": {},
   "source": [
    "Now we can see how this actually works...."
   ]
  },
  {
   "cell_type": "code",
   "execution_count": 11,
   "id": "affected-disposition",
   "metadata": {},
   "outputs": [],
   "source": [
    "data = load_image_file(\"ship1.jpg\")\n",
    "#print(data)"
   ]
  },
  {
   "cell_type": "markdown",
   "id": "southern-messenger",
   "metadata": {},
   "source": [
    "Now we convert image data to base64, and then decode it to utf-8 for reading"
   ]
  },
  {
   "cell_type": "code",
   "execution_count": 12,
   "id": "mechanical-patrick",
   "metadata": {},
   "outputs": [],
   "source": [
    "new_data = base64.b64encode(data).decode(\"utf-8\")\n",
    "#print(new_data)"
   ]
  },
  {
   "cell_type": "markdown",
   "id": "marked-health",
   "metadata": {
    "tags": []
   },
   "source": [
    "Great success!!! The above matches the data found in the applicable json file.\n",
    "## Writing JSON files\n",
    "Now we need to figure out how to write a simple JSON file, and then create one from scratch that labelme will open...the goal is just to write one that will match the current JSON file and that labelme will then open it successfully!"
   ]
  },
  {
   "cell_type": "code",
   "execution_count": 13,
   "id": "olive-cannon",
   "metadata": {},
   "outputs": [],
   "source": [
    "class LabelFile:\n",
    "    \n",
    "    #initializes the class\n",
    "    def __init__(self, filename=None):\n",
    "        self.shapes = []\n",
    "        self.imagePath = None\n",
    "        self.imageData = None\n",
    "        if filename is not None:\n",
    "            self.load(filename)\n",
    "        self.filename = filename\n",
    "    \n",
    "    def load(self, filename):\n",
    "        image_data = load_image_file(filename)\n",
    "        imagePath = osp.dirname(filename)+filename\n",
    "        flags = {} #this portion would need updating based on flags we want to add\n",
    "        shapes = [\n",
    "                dict(\n",
    "                    label=\"waterline\", # we would fill this with the different label strings\n",
    "                    points=[[209,77],[228,81],[228,99],[210,99],[208,88]], # x-y point of shape that is being drawn\n",
    "                    shape_type=\"polygon\", #we can dictate more shapes here but this seems to be the most robust\n",
    "                    flags={}, #flags that we create\n",
    "                    group_id=None, # used for gouping similar items\n",
    "                    other_data=None, # not really sure.....\n",
    "                ) \n",
    "                #for s in data[\"shapes\"]\n",
    "            ]\n",
    "        self.shapes = shapes\n",
    "        self.imagePath = imagePath\n",
    "        self.imageData = image_data\n",
    "        self.flags = flags\n",
    "        \n",
    "        \n",
    "    \n",
    "    #this part checks the height and width of image and stores it\n",
    "    @staticmethod\n",
    "    def _check_image_height_and_width(imageData):\n",
    "        img_arr = utils.img_b64_to_arr(imageData)\n",
    "        imageHeight = img_arr.shape[0]\n",
    "        imageWidth = img_arr.shape[1]\n",
    "        return imageHeight, imageWidth\n",
    "    \n",
    "    #this portion saves and writes the JSON file\n",
    "    def save(\n",
    "        self,\n",
    "        filename,\n",
    "        shapes,\n",
    "        imagePath,\n",
    "        imageData,\n",
    "        imageHeight=None,\n",
    "        imageWidth=None,\n",
    "        otherData=None,\n",
    "        flags=None,\n",
    "    ):\n",
    "        if imageData is not None:\n",
    "            imageData = base64.b64encode(imageData).decode(\"utf-8\")\n",
    "            imageHeight, imageWidth = self._check_image_height_and_width(imageData)\n",
    "        if otherData is None:\n",
    "            otherData = {}\n",
    "        if flags is None:\n",
    "            flags = {}\n",
    "        data = dict(\n",
    "            version=__version__,\n",
    "            flags=flags,\n",
    "            shapes=shapes,\n",
    "            imagePath=imagePath,\n",
    "            imageData=imageData,\n",
    "            imageHeight=imageHeight,\n",
    "            imageWidth=imageWidth,\n",
    "        )\n",
    "        try:\n",
    "            if filename.endswith(\".jpg\"):\n",
    "                filename = filename[:-4]\n",
    "            with open(filename+\".json\", \"w\") as f:\n",
    "                json.dump(data, f, ensure_ascii=False, indent=2)\n",
    "            #self.filename = filename\n",
    "        except Exception as e:\n",
    "            raise LabelFileError(e)\n",
    "        "
   ]
  },
  {
   "cell_type": "markdown",
   "id": "sharing-consolidation",
   "metadata": {},
   "source": [
    "Alright now time to see what this produces"
   ]
  },
  {
   "cell_type": "code",
   "execution_count": 14,
   "id": "gross-click",
   "metadata": {},
   "outputs": [],
   "source": [
    "init = LabelFile(\"ship1_copy.jpg\")"
   ]
  },
  {
   "cell_type": "code",
   "execution_count": 15,
   "id": "listed-intersection",
   "metadata": {},
   "outputs": [],
   "source": [
    "init.save(init.filename, init.shapes, init.imagePath, init.imageData)"
   ]
  },
  {
   "cell_type": "markdown",
   "id": "corresponding-organizer",
   "metadata": {},
   "source": [
    "## Hell yeah this totally worked!!!"
   ]
  },
  {
   "cell_type": "code",
   "execution_count": 16,
   "id": "christian-disclaimer",
   "metadata": {},
   "outputs": [],
   "source": [
    "data = json.load(open(\"ship1_copy.json\"))\n",
    "pretty_data = json.dumps(data, ensure_ascii=False, indent=4) # prints JSON beautifully with indentations\n",
    "#print(pretty_data)"
   ]
  },
  {
   "cell_type": "code",
   "execution_count": null,
   "id": "biological-nothing",
   "metadata": {},
   "outputs": [],
   "source": []
  }
 ],
 "metadata": {
  "kernelspec": {
   "display_name": "Python 3",
   "language": "python",
   "name": "python3"
  },
  "language_info": {
   "codemirror_mode": {
    "name": "ipython",
    "version": 3
   },
   "file_extension": ".py",
   "mimetype": "text/x-python",
   "name": "python",
   "nbconvert_exporter": "python",
   "pygments_lexer": "ipython3",
   "version": "3.7.9"
  },
  "toc-autonumbering": false,
  "toc-showcode": false,
  "toc-showmarkdowntxt": false,
  "toc-showtags": false
 },
 "nbformat": 4,
 "nbformat_minor": 5
}
