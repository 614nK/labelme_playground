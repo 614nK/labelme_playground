{
 "cells": [
  {
   "cell_type": "markdown",
   "id": "ambient-examination",
   "metadata": {},
   "source": [
    "# Overall playground to see how to connect AutoDraft to labelme"
   ]
  },
  {
   "cell_type": "markdown",
   "id": "impossible-summit",
   "metadata": {},
   "source": [
    "## First we need to dive into the JSON file that labelme creates in order to understand how to create one that it can then operate on"
   ]
  },
  {
   "cell_type": "code",
   "execution_count": 1,
   "id": "metric-elizabeth",
   "metadata": {},
   "outputs": [],
   "source": [
    "# imports\n",
    "import numpy as np\n",
    "import json\n",
    "import pandas as pd\n",
    "import base64\n",
    "import io\n",
    "from pprint import pprint\n",
    "import PIL.Image\n",
    "from labelme import utils\n",
    "import os.path as osp\n",
    "from labelme import PY2\n",
    "from labelme import QT4\n",
    "import base64\n",
    "from labelme import __version__\n",
    "#from IPython.core.debugger import set_trace\n",
    "\n",
    "#auto-reload of python modules\n",
    "%load_ext autoreload\n",
    "%autoreload 2"
   ]
  },
  {
   "cell_type": "markdown",
   "id": "multiple-declaration",
   "metadata": {},
   "source": [
    "### First lets figure out how to use modules"
   ]
  },
  {
   "cell_type": "markdown",
   "id": "micro-stability",
   "metadata": {},
   "source": [
    "As long as the module is located within the same notebook directory it is simple to import directly. Ensure to import without the .py ending otherwise it will not import as a module."
   ]
  },
  {
   "cell_type": "code",
   "execution_count": 2,
   "id": "minus-tooth",
   "metadata": {},
   "outputs": [
    {
     "name": "stdout",
     "output_type": "stream",
     "text": [
      "I am being executed!\n"
     ]
    }
   ],
   "source": [
    "import my_module"
   ]
  },
  {
   "cell_type": "code",
   "execution_count": 3,
   "id": "attached-wealth",
   "metadata": {},
   "outputs": [
    {
     "data": {
      "text/plain": [
       "16"
      ]
     },
     "execution_count": 3,
     "metadata": {},
     "output_type": "execute_result"
    }
   ],
   "source": [
    "my_module.square(4)"
   ]
  },
  {
   "cell_type": "code",
   "execution_count": 4,
   "id": "simplified-edmonton",
   "metadata": {},
   "outputs": [
    {
     "name": "stdout",
     "output_type": "stream",
     "text": [
      "Help on module my_module:\n",
      "\n",
      "NAME\n",
      "    my_module\n",
      "\n",
      "DESCRIPTION\n",
      "    Our first Python module. This initial string is a module-level documentation string.\n",
      "    It is not a necessary component of the module. It is a useful way to describe the\n",
      "    purpose of your module.\n",
      "\n",
      "FUNCTIONS\n",
      "    cube(x)\n",
      "    \n",
      "    square(x)\n",
      "\n",
      "DATA\n",
      "    some_list = ['a', 1, None]\n",
      "\n",
      "FILE\n",
      "    /Users/blank/AutoDraft/imagery/labelme_playground/my_module.py\n",
      "\n",
      "\n"
     ]
    }
   ],
   "source": [
    "help(my_module)"
   ]
  },
  {
   "cell_type": "markdown",
   "id": "convertible-austria",
   "metadata": {},
   "source": [
    "### Viewing JSON data\n",
    "JSON data when loaded into python prints extra ugly. The following allows for much more readable viewing of JSON files"
   ]
  },
  {
   "cell_type": "code",
   "execution_count": 5,
   "id": "olympic-lexington",
   "metadata": {},
   "outputs": [],
   "source": [
    "data = json.load(open(\"ship1.json\"))\n",
    "# print(data) ## the data prints in a difficult string fashion\n",
    "# pprint(data) ## one very quick way to print out the data. Looks okay..."
   ]
  },
  {
   "cell_type": "code",
   "execution_count": 6,
   "id": "cognitive-pennsylvania",
   "metadata": {},
   "outputs": [],
   "source": [
    "pretty_data = json.dumps(data, ensure_ascii=False, indent=4) # prints JSON beautifully with indentations\n",
    "#print(pretty_data)"
   ]
  },
  {
   "cell_type": "markdown",
   "id": "killing-facing",
   "metadata": {},
   "source": [
    "### Now we need to figure out how to view/save image data"
   ]
  },
  {
   "cell_type": "markdown",
   "id": "regulation-destiny",
   "metadata": {},
   "source": [
    "First method will be to attmept to use code within labelme"
   ]
  },
  {
   "cell_type": "code",
   "execution_count": 7,
   "id": "several-treatment",
   "metadata": {},
   "outputs": [],
   "source": [
    "# Function provided in labelme source code\n",
    "def load_image_file(filename):\n",
    "    try:\n",
    "        image_pil = PIL.Image.open(filename)\n",
    "    except IOError:\n",
    "        logger.error(\"Failed opening image file: {}\".format(filename))\n",
    "        return\n",
    "\n",
    "    # apply orientation to image according to exif\n",
    "    image_pil = utils.apply_exif_orientation(image_pil)\n",
    "\n",
    "    with io.BytesIO() as f:\n",
    "        ext = osp.splitext(filename)[1].lower()\n",
    "        if PY2 and QT4:\n",
    "            format = \"PNG\"\n",
    "        elif ext in [\".jpg\", \".jpeg\"]:\n",
    "            format = \"JPEG\"\n",
    "        else:\n",
    "            format = \"PNG\"\n",
    "        image_pil.save(f, format=format)\n",
    "        f.seek(0)\n",
    "        return f.read()"
   ]
  },
  {
   "cell_type": "markdown",
   "id": "solar-german",
   "metadata": {},
   "source": [
    "Now we can see how this actually works...."
   ]
  },
  {
   "cell_type": "code",
   "execution_count": 8,
   "id": "spiritual-devil",
   "metadata": {},
   "outputs": [],
   "source": [
    "data = load_image_file(\"ship1.jpg\")\n",
    "#print(data)"
   ]
  },
  {
   "cell_type": "markdown",
   "id": "enhanced-portuguese",
   "metadata": {},
   "source": [
    "Now we convert image data to base64, and then decode it to utf-8 for reading"
   ]
  },
  {
   "cell_type": "code",
   "execution_count": 9,
   "id": "iraqi-sample",
   "metadata": {},
   "outputs": [],
   "source": [
    "new_data = base64.b64encode(data).decode(\"utf-8\")\n",
    "#print(new_data)"
   ]
  },
  {
   "cell_type": "markdown",
   "id": "bright-graphic",
   "metadata": {
    "tags": []
   },
   "source": [
    "Great success!!! The above matches the data found in the applicable json file.\n",
    "## Writing JSON files\n",
    "Now we need to figure out how to write a simple JSON file, and then create one from scratch that labelme will open...the goal is just to write one that will match the current JSON file and that labelme will then open it successfully!"
   ]
  },
  {
   "cell_type": "code",
   "execution_count": 10,
   "id": "varying-mounting",
   "metadata": {},
   "outputs": [],
   "source": [
    "class LabelFile:\n",
    "    \n",
    "    #initializes the class\n",
    "    def __init__(self, filename=None, shapes=[]):\n",
    "        self.shapes = shapes\n",
    "        self.image_path = None\n",
    "        self.image_data = None\n",
    "        self.load(filename)\n",
    "        self.filename = filename\n",
    "\n",
    "    \n",
    "    def load(self, filename):\n",
    "        image_data = load_image_file(filename)\n",
    "        image_path = osp.dirname(filename)+filename #this causes the directory of the image file plus the filename to be stored\n",
    "        flags = {} #this portion would need updating based on flags we want to add\n",
    "        shapes = [\n",
    "                dict(\n",
    "                    label=\"waterline\", # we would fill this with the different label strings\n",
    "                    points=[[209,77],[228,81],[228,99],[210,99],[208,88]], # x-y point of shape that is being drawn\n",
    "                    shape_type=\"polygon\", #we can dictate more shapes here but this seems to be the most robust\n",
    "                    flags={}, #flags that we create\n",
    "                    group_id=None, # used for gouping similar items\n",
    "                    other_data=None, # not really sure.....\n",
    "                ) \n",
    "                #for s in data[\"shapes\"]\n",
    "            ]\n",
    "        self.shapes = shapes\n",
    "        self.image_path = image_path\n",
    "        self.image_data = image_data\n",
    "        self.flags = flags\n",
    "        \n",
    "        \n",
    "    \n",
    "    #this part checks the height and width of image and stores it\n",
    "    @staticmethod\n",
    "    def _check_image_height_and_width(image_data):\n",
    "        img_arr = utils.img_b64_to_arr(image_data)\n",
    "        image_height = img_arr.shape[0]\n",
    "        image_width = img_arr.shape[1]\n",
    "        return image_height, image_width\n",
    "    \n",
    "    #this portion saves and writes the JSON file\n",
    "    def save(\n",
    "        self,\n",
    "        filename,\n",
    "        shapes,\n",
    "        image_path,\n",
    "        image_data,\n",
    "        image_height=None,\n",
    "        image_width=None,\n",
    "        other_data=None,\n",
    "        flags=None,\n",
    "    ):\n",
    "        if image_data is not None:\n",
    "            image_data = base64.b64encode(image_data).decode(\"utf-8\")\n",
    "            image_height, image_width = self._check_image_height_and_width(image_data)\n",
    "        if other_data is None:\n",
    "            other_data = {}\n",
    "        if flags is None:\n",
    "            flags = {}\n",
    "        data = dict(\n",
    "            version=__version__,\n",
    "            flags=flags,\n",
    "            shapes=shapes,\n",
    "            image_path=image_path,\n",
    "            image_data=image_data,\n",
    "            image_height=image_height,\n",
    "            image_width=image_width,\n",
    "        )\n",
    "        try:\n",
    "            if filename.endswith(\".jpg\"):\n",
    "                filename = filename[:-4]\n",
    "            with open(filename+\".json\", \"w\") as f:\n",
    "                json.dump(data, f, ensure_ascii=False, indent=2)\n",
    "            #self.filename = filename\n",
    "        except Exception as e:\n",
    "            raise LabelFileError(e)\n",
    "        "
   ]
  },
  {
   "cell_type": "markdown",
   "id": "tribal-participation",
   "metadata": {},
   "source": [
    "Alright now time to see what this produces"
   ]
  },
  {
   "cell_type": "code",
   "execution_count": 11,
   "id": "simplified-ordinance",
   "metadata": {},
   "outputs": [],
   "source": [
    "init = LabelFile(\"ship1_copy.jpg\")"
   ]
  },
  {
   "cell_type": "code",
   "execution_count": 12,
   "id": "empirical-citizen",
   "metadata": {},
   "outputs": [],
   "source": [
    "init.save(init.filename, init.shapes, init.image_path, init.image_data)"
   ]
  },
  {
   "cell_type": "markdown",
   "id": "exterior-hartford",
   "metadata": {},
   "source": [
    "## Hell yeah this totally worked!!!"
   ]
  },
  {
   "cell_type": "code",
   "execution_count": 13,
   "id": "protecting-lexington",
   "metadata": {},
   "outputs": [],
   "source": [
    "data = json.load(open(\"ship1_copy.json\"))\n",
    "pretty_data = json.dumps(data, ensure_ascii=False, indent=4) # prints JSON beautifully with indentations\n",
    "#print(pretty_data)"
   ]
  },
  {
   "cell_type": "markdown",
   "id": "secret-brief",
   "metadata": {},
   "source": [
    "## Iterating through an array"
   ]
  },
  {
   "cell_type": "code",
   "execution_count": 14,
   "id": "prescription-theory",
   "metadata": {},
   "outputs": [],
   "source": [
    "boxes = np.array([[219,182,2,17],\n",
    " [232,173,8,12],\n",
    " [232,153,7,11],\n",
    " [231,132,6,10],\n",
    " [230,111,7,12],\n",
    " [230,92,9,9],\n",
    " [216,79,13,22],\n",
    " [208,78,6,21],\n",
    " [229,72,7,11],\n",
    " [229,53,7,10]])"
   ]
  },
  {
   "cell_type": "markdown",
   "id": "alien-climb",
   "metadata": {},
   "source": [
    "Okay, so what exactly do I want the code to do?  \n",
    "- create new array\n",
    "- array should look like $[x,\\ y,\\ x + w,\\ y + h]$. From the original boxes array this should look like [boxes[0,0], boxes[0,1], boxes[0,0] + boxes[0,2], boxes[0,1] + boxes[0,3]]\n",
    "- Iterate across each row would probable be the easiest method\n",
    "- Also want to turn this into a dictionary that can be easily used by the next section of the labelme code\n",
    "\n",
    "Pseudo code should look like:\n",
    "\n",
    "    for i in boxes:\n",
    "        go through each i row:\n",
    "            do the operations above and assign them to empty array\n",
    "    once new array is created make dictionary that matches labelme shapes dictionary\n",
    "    shapes = [\n",
    "                dict(\n",
    "                    label=\"waterline\", # we would fill this with the different label strings\n",
    "                    points=[[209,77],[228,81],[228,99],[210,99],[208,88]], # x-y point of shape that is being drawn\n",
    "                    shape_type=\"polygon\", #we can dictate more shapes here but this seems to be the most robust\n",
    "                    flags={}, #flags that we create\n",
    "                    group_id=None, # used for gouping similar items\n",
    "                    other_data=None, # not really sure.....\n",
    "                ) \n",
    "                #for s in data[\"shapes\"]\n",
    "            ]\n",
    "    return shapes dictionary\n",
    "    "
   ]
  },
  {
   "cell_type": "code",
   "execution_count": 15,
   "id": "experienced-journalism",
   "metadata": {},
   "outputs": [
    {
     "data": {
      "text/plain": [
       "(10, 4)"
      ]
     },
     "execution_count": 15,
     "metadata": {},
     "output_type": "execute_result"
    }
   ],
   "source": [
    "boxes.shape"
   ]
  },
  {
   "cell_type": "code",
   "execution_count": 16,
   "id": "square-muslim",
   "metadata": {},
   "outputs": [
    {
     "name": "stdout",
     "output_type": "stream",
     "text": [
      "232\n"
     ]
    }
   ],
   "source": [
    "print(boxes[1,0])"
   ]
  },
  {
   "cell_type": "markdown",
   "id": "threaded-breath",
   "metadata": {},
   "source": [
    "Need to create a new JSON encoder to handle numpy arrays"
   ]
  },
  {
   "cell_type": "code",
   "execution_count": 17,
   "id": "backed-valentine",
   "metadata": {},
   "outputs": [],
   "source": [
    "class myEncoder(json.JSONEncoder):\n",
    "    # Handles the default behavior of\n",
    "    # the encoder when it parses an object 'obj'\n",
    "    def default(self, obj):\n",
    "        # If the object is a numpy array\n",
    "        if isinstance(obj, np.ndarray):\n",
    "            # Convert to Python List\n",
    "            return obj.tolist()\n",
    "        else:\n",
    "            # Let the base class Encoder handle the object\n",
    "            return json.JSONEncoder.default(self, obj)\n",
    " "
   ]
  },
  {
   "cell_type": "markdown",
   "id": "superior-hawaiian",
   "metadata": {},
   "source": [
    "**Should try and make this universal for boxes, lines, etc**"
   ]
  },
  {
   "cell_type": "code",
   "execution_count": 18,
   "id": "enormous-dictionary",
   "metadata": {},
   "outputs": [],
   "source": [
    "def extract_points(boxes):\n",
    "    points = np.empty(boxes.shape)\n",
    "    for i in range(0,10):\n",
    "        points[i] = [boxes[i,0], boxes[i,1], boxes[i,0] + boxes[i,2], boxes[i,1] + boxes[i,3]]\n",
    "       \n",
    "    # Now create shapes dictionary for transfer to labelme\n",
    "    shapes = [\n",
    "        dict(\n",
    "            label=\"draftmarks\",\n",
    "            points=points, # x-y point of shape that is being drawn\n",
    "            shape_type=\"polygon\", #we can dictate more shapes here but this seems to be the most robust\n",
    "            flags={}, #flags that we create\n",
    "            group_id=None, # used for gouping similar items\n",
    "            other_data=None, # not really sure.....\n",
    "        )\n",
    "    ]\n",
    "    return points, shapes"
   ]
  },
  {
   "cell_type": "code",
   "execution_count": 19,
   "id": "varied-edward",
   "metadata": {},
   "outputs": [],
   "source": [
    "points, shapes = extract_points(boxes)"
   ]
  },
  {
   "cell_type": "code",
   "execution_count": 20,
   "id": "played-pendant",
   "metadata": {},
   "outputs": [
    {
     "name": "stdout",
     "output_type": "stream",
     "text": [
      "[{'label': 'draftmarks', 'points': array([[219., 182., 221., 199.],\n",
      "       [232., 173., 240., 185.],\n",
      "       [232., 153., 239., 164.],\n",
      "       [231., 132., 237., 142.],\n",
      "       [230., 111., 237., 123.],\n",
      "       [230.,  92., 239., 101.],\n",
      "       [216.,  79., 229., 101.],\n",
      "       [208.,  78., 214.,  99.],\n",
      "       [229.,  72., 236.,  83.],\n",
      "       [229.,  53., 236.,  63.]]), 'shape_type': 'polygon', 'flags': {}, 'group_id': None, 'other_data': None}]\n"
     ]
    }
   ],
   "source": [
    "print(shapes)"
   ]
  },
  {
   "cell_type": "code",
   "execution_count": 21,
   "id": "eligible-reset",
   "metadata": {},
   "outputs": [],
   "source": [
    "with open(\"shapes\"+\".json\", \"w\") as f:\n",
    "    json.dump(shapes, f, ensure_ascii=False, indent=2, cls=myEncoder)"
   ]
  },
  {
   "cell_type": "code",
   "execution_count": 22,
   "id": "consecutive-restaurant",
   "metadata": {},
   "outputs": [],
   "source": [
    "pretty_shapes = json.dumps(shapes, ensure_ascii=False, indent=4, cls=myEncoder)\n",
    "#print(pretty_shapes)"
   ]
  },
  {
   "cell_type": "markdown",
   "id": "respiratory-occupation",
   "metadata": {},
   "source": [
    "## Okay so now time to see how to create the class file we need for our particular code\n",
    "We'll need to cut out a few things, like the shapes parameter so that we can insert that from our code directly, and then re-write the load function to better suit our purposes\n",
    "Also need to consider what other information needs to come from our code directly"
   ]
  },
  {
   "cell_type": "code",
   "execution_count": 34,
   "id": "coral-resort",
   "metadata": {},
   "outputs": [],
   "source": [
    "class LabelFile:\n",
    "    \n",
    "    #initializes the class\n",
    "    def __init__(self, filename=None, shapes=[]):\n",
    "        self.shapes = shapes\n",
    "        self.imagePath = None\n",
    "        self.imageData = None\n",
    "        self.load(filename)\n",
    "        self.filename = filename\n",
    "\n",
    "    \n",
    "    def load(self, filename):\n",
    "        image_data = load_image_file(filename)\n",
    "        image_path = osp.dirname(filename)+filename #this causes the directory of the image file plus the filename to be stored\n",
    "        flags = {} #this portion would need updating based on flags we want to add\n",
    "        self.imagePath = image_path\n",
    "        self.imageData = image_data\n",
    "        self.flags = flags\n",
    "        \n",
    "        \n",
    "    \n",
    "    #this part checks the height and width of image and stores it\n",
    "    @staticmethod\n",
    "    def _check_image_height_and_width(imageData):\n",
    "        img_arr = utils.img_b64_to_arr(imageData)\n",
    "        image_height = img_arr.shape[0]\n",
    "        image_width = img_arr.shape[1]\n",
    "        return image_height, image_width\n",
    "    \n",
    "    #this portion saves and writes the JSON file\n",
    "    def save(\n",
    "        self,\n",
    "        filename,\n",
    "        shapes,\n",
    "        image_path,\n",
    "        image_data,\n",
    "        image_height=None,\n",
    "        image_width=None,\n",
    "        other_data=None,\n",
    "        flags=None,\n",
    "    ):\n",
    "        if image_data is not None:\n",
    "            image_data = base64.b64encode(image_data).decode(\"utf-8\")\n",
    "            image_height, image_width = self._check_image_height_and_width(image_data)\n",
    "        if other_data is None:\n",
    "            other_data = {}\n",
    "        if flags is None:\n",
    "            flags = {}\n",
    "        data = dict(\n",
    "            version=__version__,\n",
    "            flags=flags,\n",
    "            shapes=shapes,\n",
    "            imagePath=image_path,\n",
    "            imageData=image_data,\n",
    "            imageHeight=image_height,\n",
    "            imageWidth=image_width,\n",
    "        )\n",
    "        if filename.endswith(\".jpg\"):\n",
    "            filename = filename[:-4]\n",
    "        with open(filename+\".json\", \"w\") as f:\n",
    "            json.dump(data, f, ensure_ascii=False, indent=2, cls=myEncoder)"
   ]
  },
  {
   "cell_type": "code",
   "execution_count": 35,
   "id": "allied-behavior",
   "metadata": {},
   "outputs": [],
   "source": [
    "init = LabelFile(\"frame_0_meters_001.jpg\", shapes)"
   ]
  },
  {
   "cell_type": "code",
   "execution_count": 37,
   "id": "devoted-softball",
   "metadata": {},
   "outputs": [],
   "source": [
    "init.save(init.filename, init.shapes, init.imagePath, init.imageData)"
   ]
  },
  {
   "cell_type": "code",
   "execution_count": null,
   "id": "romantic-commercial",
   "metadata": {},
   "outputs": [],
   "source": []
  },
  {
   "cell_type": "markdown",
   "id": "interracial-imaging",
   "metadata": {},
   "source": [
    "### Need to solve the issue of having multiple dictionary entries per shape"
   ]
  },
  {
   "cell_type": "code",
   "execution_count": 38,
   "id": "demographic-richardson",
   "metadata": {},
   "outputs": [],
   "source": [
    "shapes1 = [\n",
    "    dict(\n",
    "        label=\"waterline\", # we would fill this with the different label strings\n",
    "        points=[[209,77],[228,81],[228,99],[210,99],[208,88]], # x-y point of shape that is being drawn\n",
    "        shape_type=\"polygon\", #we can dictate more shapes here but this seems to be the most robust\n",
    "        flags={}, #flags that we create\n",
    "        group_id=None, # used for gouping similar items\n",
    "        other_data=None, # not really sure.....\n",
    "    )\n",
    "]"
   ]
  },
  {
   "cell_type": "code",
   "execution_count": 39,
   "id": "systematic-coordinate",
   "metadata": {},
   "outputs": [],
   "source": [
    "shapes2 = dict(\n",
    "        label=\"waterline\", # we would fill this with the different label strings\n",
    "        points=[[209,77],[228,81],[228,99],[210,99],[208,88]], # x-y point of shape that is being drawn\n",
    "        shape_type=\"polygon\", #we can dictate more shapes here but this seems to be the most robust\n",
    "        flags={}, #flags that we create\n",
    "        group_id=None, # used for gouping similar items\n",
    "        other_data=None, # not really sure.....\n",
    "    )"
   ]
  },
  {
   "cell_type": "code",
   "execution_count": 40,
   "id": "integral-copper",
   "metadata": {},
   "outputs": [],
   "source": [
    "shapes1.append(shapes2)"
   ]
  },
  {
   "cell_type": "code",
   "execution_count": 41,
   "id": "wired-organic",
   "metadata": {},
   "outputs": [
    {
     "name": "stdout",
     "output_type": "stream",
     "text": [
      "[{'label': 'waterline', 'points': [[209, 77], [228, 81], [228, 99], [210, 99], [208, 88]], 'shape_type': 'polygon', 'flags': {}, 'group_id': None, 'other_data': None}, {'label': 'waterline', 'points': [[209, 77], [228, 81], [228, 99], [210, 99], [208, 88]], 'shape_type': 'polygon', 'flags': {}, 'group_id': None, 'other_data': None}]\n"
     ]
    }
   ],
   "source": [
    "print(shapes1)"
   ]
  },
  {
   "cell_type": "code",
   "execution_count": 43,
   "id": "chinese-phase",
   "metadata": {},
   "outputs": [
    {
     "name": "stdout",
     "output_type": "stream",
     "text": [
      "[\n",
      "    {\n",
      "        \"label\": \"waterline\",\n",
      "        \"points\": [\n",
      "            [\n",
      "                209,\n",
      "                77\n",
      "            ],\n",
      "            [\n",
      "                228,\n",
      "                81\n",
      "            ],\n",
      "            [\n",
      "                228,\n",
      "                99\n",
      "            ],\n",
      "            [\n",
      "                210,\n",
      "                99\n",
      "            ],\n",
      "            [\n",
      "                208,\n",
      "                88\n",
      "            ]\n",
      "        ],\n",
      "        \"shape_type\": \"polygon\",\n",
      "        \"flags\": {},\n",
      "        \"group_id\": null,\n",
      "        \"other_data\": null\n",
      "    },\n",
      "    {\n",
      "        \"label\": \"waterline\",\n",
      "        \"points\": [\n",
      "            [\n",
      "                209,\n",
      "                77\n",
      "            ],\n",
      "            [\n",
      "                228,\n",
      "                81\n",
      "            ],\n",
      "            [\n",
      "                228,\n",
      "                99\n",
      "            ],\n",
      "            [\n",
      "                210,\n",
      "                99\n",
      "            ],\n",
      "            [\n",
      "                208,\n",
      "                88\n",
      "            ]\n",
      "        ],\n",
      "        \"shape_type\": \"polygon\",\n",
      "        \"flags\": {},\n",
      "        \"group_id\": null,\n",
      "        \"other_data\": null\n",
      "    }\n",
      "]\n"
     ]
    }
   ],
   "source": [
    "pretty_shapes1 = json.dumps(shapes1, ensure_ascii=False, indent=4, cls=myEncoder)\n",
    "print(pretty_shapes1)"
   ]
  },
  {
   "cell_type": "markdown",
   "id": "express-disaster",
   "metadata": {},
   "source": [
    "Alright that appears to have worked! So use .append to append whole dictionaries each loop"
   ]
  },
  {
   "cell_type": "code",
   "execution_count": 44,
   "id": "surgical-quantum",
   "metadata": {},
   "outputs": [
    {
     "name": "stdout",
     "output_type": "stream",
     "text": [
      "[[219 182   2  17]\n",
      " [232 173   8  12]\n",
      " [232 153   7  11]\n",
      " [231 132   6  10]\n",
      " [230 111   7  12]\n",
      " [230  92   9   9]\n",
      " [216  79  13  22]\n",
      " [208  78   6  21]\n",
      " [229  72   7  11]\n",
      " [229  53   7  10]]\n"
     ]
    }
   ],
   "source": [
    "print(boxes)"
   ]
  },
  {
   "cell_type": "code",
   "execution_count": 99,
   "id": "unlikely-princeton",
   "metadata": {},
   "outputs": [],
   "source": [
    "def transform_points(points):\n",
    "    column = points.shape[0]\n",
    "    transformed_points = np.empty(((column//2), 2))\n",
    "    n = 1\n",
    "    i = 1\n",
    "    transformed_points[0] = [points[0], points[1]]\n",
    "    while i <= 7:\n",
    "        transformed_points[n] = [points[i+1], points[i+2]]\n",
    "        if i+2 == column - 1:\n",
    "            break\n",
    "        i+=2\n",
    "        n+=1\n",
    "    \n",
    "    return transformed_points"
   ]
  },
  {
   "cell_type": "code",
   "execution_count": 101,
   "id": "experimental-input",
   "metadata": {},
   "outputs": [
    {
     "name": "stdout",
     "output_type": "stream",
     "text": [
      "[[232. 173.]\n",
      " [232. 185.]\n",
      " [240. 173.]\n",
      " [240. 185.]]\n"
     ]
    }
   ],
   "source": [
    "love = transform_points(points[1])\n",
    "print(love)"
   ]
  },
  {
   "cell_type": "code",
   "execution_count": 111,
   "id": "elementary-typing",
   "metadata": {},
   "outputs": [],
   "source": [
    "def extract_points(boxes):\n",
    "    # rearrange to get proper sizing\n",
    "    row, column = boxes.shape\n",
    "    points = np.empty((row, column*2))\n",
    "    for i in range(0,row):\n",
    "        points[i] = [boxes[i,0], boxes[i,1],\n",
    "                     boxes[i,0], boxes[i,1] + boxes[i,3],\n",
    "                     boxes[i,0] + boxes[i,2], boxes[i,1],\n",
    "                     boxes[i,0] + boxes[i,2], boxes[i,1] + boxes[i,3]]\n",
    "    \n",
    "    \n",
    "       \n",
    "    # Now create shapes dictionary for transfer to labelme\n",
    "    shapes = []\n",
    "    for i in range(0,row):\n",
    "        transformed_points = transform_points(points[i])\n",
    "        shapes.append(\n",
    "            dict(\n",
    "                label=\"draftmarks\",\n",
    "                points=transformed_points, # x-y point of shape that is being drawn\n",
    "                shape_type=\"polygon\", #we can dictate more shapes here but this seems to be the most robust\n",
    "                flags={}, #flags that we create\n",
    "                group_id=None, # used for gouping similar items\n",
    "                other_data=None, # not really sure.....\n",
    "            )\n",
    "        )\n",
    "    return points, shapes"
   ]
  },
  {
   "cell_type": "code",
   "execution_count": 60,
   "id": "adaptive-soviet",
   "metadata": {},
   "outputs": [
    {
     "name": "stdout",
     "output_type": "stream",
     "text": [
      "(10, 4)\n",
      "10\n",
      "4\n"
     ]
    },
    {
     "data": {
      "text/plain": [
       "(10, 8)"
      ]
     },
     "execution_count": 60,
     "metadata": {},
     "output_type": "execute_result"
    }
   ],
   "source": [
    "test = np.empty(boxes.shape)\n",
    "size = boxes.shape\n",
    "print(size)\n",
    "row, column = size\n",
    "print(row)\n",
    "print(column)\n",
    "column = column*2\n",
    "size = (row,column)\n",
    "test = np.empty(size)\n",
    "test.shape"
   ]
  },
  {
   "cell_type": "code",
   "execution_count": 112,
   "id": "forced-inquiry",
   "metadata": {},
   "outputs": [
    {
     "name": "stdout",
     "output_type": "stream",
     "text": [
      "10 8\n"
     ]
    },
    {
     "data": {
      "text/plain": [
       "4"
      ]
     },
     "execution_count": 112,
     "metadata": {},
     "output_type": "execute_result"
    }
   ],
   "source": [
    "points, shapes = extract_points(boxes)\n",
    "points.shape\n",
    "points.shape[0]\n",
    "points.shape[1]\n",
    "row, column = points.shape\n",
    "print(row, column)\n",
    "love = points[1]\n",
    "love.shape\n",
    "8//2"
   ]
  },
  {
   "cell_type": "code",
   "execution_count": 113,
   "id": "chemical-skill",
   "metadata": {},
   "outputs": [
    {
     "name": "stdout",
     "output_type": "stream",
     "text": [
      "[\n",
      "    {\n",
      "        \"label\": \"draftmarks\",\n",
      "        \"points\": [\n",
      "            [\n",
      "                219.0,\n",
      "                182.0\n",
      "            ],\n",
      "            [\n",
      "                219.0,\n",
      "                199.0\n",
      "            ],\n",
      "            [\n",
      "                221.0,\n",
      "                182.0\n",
      "            ],\n",
      "            [\n",
      "                221.0,\n",
      "                199.0\n",
      "            ]\n",
      "        ],\n",
      "        \"shape_type\": \"polygon\",\n",
      "        \"flags\": {},\n",
      "        \"group_id\": null,\n",
      "        \"other_data\": null\n",
      "    },\n",
      "    {\n",
      "        \"label\": \"draftmarks\",\n",
      "        \"points\": [\n",
      "            [\n",
      "                232.0,\n",
      "                173.0\n",
      "            ],\n",
      "            [\n",
      "                232.0,\n",
      "                185.0\n",
      "            ],\n",
      "            [\n",
      "                240.0,\n",
      "                173.0\n",
      "            ],\n",
      "            [\n",
      "                240.0,\n",
      "                185.0\n",
      "            ]\n",
      "        ],\n",
      "        \"shape_type\": \"polygon\",\n",
      "        \"flags\": {},\n",
      "        \"group_id\": null,\n",
      "        \"other_data\": null\n",
      "    },\n",
      "    {\n",
      "        \"label\": \"draftmarks\",\n",
      "        \"points\": [\n",
      "            [\n",
      "                232.0,\n",
      "                153.0\n",
      "            ],\n",
      "            [\n",
      "                232.0,\n",
      "                164.0\n",
      "            ],\n",
      "            [\n",
      "                239.0,\n",
      "                153.0\n",
      "            ],\n",
      "            [\n",
      "                239.0,\n",
      "                164.0\n",
      "            ]\n",
      "        ],\n",
      "        \"shape_type\": \"polygon\",\n",
      "        \"flags\": {},\n",
      "        \"group_id\": null,\n",
      "        \"other_data\": null\n",
      "    },\n",
      "    {\n",
      "        \"label\": \"draftmarks\",\n",
      "        \"points\": [\n",
      "            [\n",
      "                231.0,\n",
      "                132.0\n",
      "            ],\n",
      "            [\n",
      "                231.0,\n",
      "                142.0\n",
      "            ],\n",
      "            [\n",
      "                237.0,\n",
      "                132.0\n",
      "            ],\n",
      "            [\n",
      "                237.0,\n",
      "                142.0\n",
      "            ]\n",
      "        ],\n",
      "        \"shape_type\": \"polygon\",\n",
      "        \"flags\": {},\n",
      "        \"group_id\": null,\n",
      "        \"other_data\": null\n",
      "    },\n",
      "    {\n",
      "        \"label\": \"draftmarks\",\n",
      "        \"points\": [\n",
      "            [\n",
      "                230.0,\n",
      "                111.0\n",
      "            ],\n",
      "            [\n",
      "                230.0,\n",
      "                123.0\n",
      "            ],\n",
      "            [\n",
      "                237.0,\n",
      "                111.0\n",
      "            ],\n",
      "            [\n",
      "                237.0,\n",
      "                123.0\n",
      "            ]\n",
      "        ],\n",
      "        \"shape_type\": \"polygon\",\n",
      "        \"flags\": {},\n",
      "        \"group_id\": null,\n",
      "        \"other_data\": null\n",
      "    },\n",
      "    {\n",
      "        \"label\": \"draftmarks\",\n",
      "        \"points\": [\n",
      "            [\n",
      "                230.0,\n",
      "                92.0\n",
      "            ],\n",
      "            [\n",
      "                230.0,\n",
      "                101.0\n",
      "            ],\n",
      "            [\n",
      "                239.0,\n",
      "                92.0\n",
      "            ],\n",
      "            [\n",
      "                239.0,\n",
      "                101.0\n",
      "            ]\n",
      "        ],\n",
      "        \"shape_type\": \"polygon\",\n",
      "        \"flags\": {},\n",
      "        \"group_id\": null,\n",
      "        \"other_data\": null\n",
      "    },\n",
      "    {\n",
      "        \"label\": \"draftmarks\",\n",
      "        \"points\": [\n",
      "            [\n",
      "                216.0,\n",
      "                79.0\n",
      "            ],\n",
      "            [\n",
      "                216.0,\n",
      "                101.0\n",
      "            ],\n",
      "            [\n",
      "                229.0,\n",
      "                79.0\n",
      "            ],\n",
      "            [\n",
      "                229.0,\n",
      "                101.0\n",
      "            ]\n",
      "        ],\n",
      "        \"shape_type\": \"polygon\",\n",
      "        \"flags\": {},\n",
      "        \"group_id\": null,\n",
      "        \"other_data\": null\n",
      "    },\n",
      "    {\n",
      "        \"label\": \"draftmarks\",\n",
      "        \"points\": [\n",
      "            [\n",
      "                208.0,\n",
      "                78.0\n",
      "            ],\n",
      "            [\n",
      "                208.0,\n",
      "                99.0\n",
      "            ],\n",
      "            [\n",
      "                214.0,\n",
      "                78.0\n",
      "            ],\n",
      "            [\n",
      "                214.0,\n",
      "                99.0\n",
      "            ]\n",
      "        ],\n",
      "        \"shape_type\": \"polygon\",\n",
      "        \"flags\": {},\n",
      "        \"group_id\": null,\n",
      "        \"other_data\": null\n",
      "    },\n",
      "    {\n",
      "        \"label\": \"draftmarks\",\n",
      "        \"points\": [\n",
      "            [\n",
      "                229.0,\n",
      "                72.0\n",
      "            ],\n",
      "            [\n",
      "                229.0,\n",
      "                83.0\n",
      "            ],\n",
      "            [\n",
      "                236.0,\n",
      "                72.0\n",
      "            ],\n",
      "            [\n",
      "                236.0,\n",
      "                83.0\n",
      "            ]\n",
      "        ],\n",
      "        \"shape_type\": \"polygon\",\n",
      "        \"flags\": {},\n",
      "        \"group_id\": null,\n",
      "        \"other_data\": null\n",
      "    },\n",
      "    {\n",
      "        \"label\": \"draftmarks\",\n",
      "        \"points\": [\n",
      "            [\n",
      "                229.0,\n",
      "                53.0\n",
      "            ],\n",
      "            [\n",
      "                229.0,\n",
      "                63.0\n",
      "            ],\n",
      "            [\n",
      "                236.0,\n",
      "                53.0\n",
      "            ],\n",
      "            [\n",
      "                236.0,\n",
      "                63.0\n",
      "            ]\n",
      "        ],\n",
      "        \"shape_type\": \"polygon\",\n",
      "        \"flags\": {},\n",
      "        \"group_id\": null,\n",
      "        \"other_data\": null\n",
      "    }\n",
      "]\n"
     ]
    }
   ],
   "source": [
    "pretty_shapes = json.dumps(shapes, ensure_ascii=False, indent=4, cls=myEncoder)\n",
    "print(pretty_shapes)"
   ]
  },
  {
   "cell_type": "code",
   "execution_count": 114,
   "id": "respiratory-footwear",
   "metadata": {},
   "outputs": [],
   "source": [
    "with open(\"shapes\"+\".json\", \"w\") as f:\n",
    "    json.dump(shapes, f, ensure_ascii=False, indent=2, cls=myEncoder)"
   ]
  },
  {
   "cell_type": "markdown",
   "id": "armed-startup",
   "metadata": {},
   "source": [
    "Woohoo!!! This is finally in the correct shape!!!"
   ]
  },
  {
   "cell_type": "code",
   "execution_count": null,
   "id": "innovative-insertion",
   "metadata": {},
   "outputs": [],
   "source": []
  }
 ],
 "metadata": {
  "kernelspec": {
   "display_name": "Python 3",
   "language": "python",
   "name": "python3"
  },
  "language_info": {
   "codemirror_mode": {
    "name": "ipython",
    "version": 3
   },
   "file_extension": ".py",
   "mimetype": "text/x-python",
   "name": "python",
   "nbconvert_exporter": "python",
   "pygments_lexer": "ipython3",
   "version": "3.7.9"
  },
  "toc-autonumbering": false,
  "toc-showcode": false,
  "toc-showmarkdowntxt": false,
  "toc-showtags": false
 },
 "nbformat": 4,
 "nbformat_minor": 5
}
