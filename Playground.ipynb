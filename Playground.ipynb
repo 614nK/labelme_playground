{
 "cells": [
  {
   "cell_type": "markdown",
   "id": "limiting-finder",
   "metadata": {},
   "source": [
    "# Overall playground to see how to connect AutoDraft to labelme"
   ]
  },
  {
   "cell_type": "markdown",
   "id": "thick-account",
   "metadata": {},
   "source": [
    "## First we need to dive into the JSON file that labelme creates in order to understand how to create one that it can then operate on"
   ]
  },
  {
   "cell_type": "code",
   "execution_count": 6,
   "id": "australian-reasoning",
   "metadata": {},
   "outputs": [],
   "source": [
    "# imports\n",
    "import numpy as np\n",
    "import json\n",
    "import pandas as pd\n",
    "import base64\n",
    "import io\n",
    "from pprint import pprint\n",
    "import PIL.Image\n",
    "from labelme import utils\n",
    "import os.path as osp\n",
    "from labelme import PY2\n",
    "from labelme import QT4\n",
    "import base64\n",
    "from labelme import __version__\n",
    "#from IPython.core.debugger import set_trace\n",
    "\n",
    "#auto-reload of python modules\n",
    "%load_ext autoreload\n",
    "%autoreload 2"
   ]
  },
  {
   "cell_type": "markdown",
   "id": "musical-formation",
   "metadata": {},
   "source": [
    "### First lets figure out how to use modules"
   ]
  },
  {
   "cell_type": "markdown",
   "id": "opposed-cambridge",
   "metadata": {},
   "source": [
    "As long as the module is located within the same notebook directory it is simple to import directly. Ensure to import without the .py ending otherwise it will not import as a module."
   ]
  },
  {
   "cell_type": "code",
   "execution_count": 4,
   "id": "corresponding-slope",
   "metadata": {},
   "outputs": [
    {
     "name": "stdout",
     "output_type": "stream",
     "text": [
      "I am being executed!\n"
     ]
    }
   ],
   "source": [
    "import my_module"
   ]
  },
  {
   "cell_type": "code",
   "execution_count": 5,
   "id": "comic-pricing",
   "metadata": {},
   "outputs": [
    {
     "data": {
      "text/plain": [
       "16"
      ]
     },
     "execution_count": 5,
     "metadata": {},
     "output_type": "execute_result"
    }
   ],
   "source": [
    "my_module.square(4)"
   ]
  },
  {
   "cell_type": "code",
   "execution_count": 6,
   "id": "acquired-brighton",
   "metadata": {},
   "outputs": [
    {
     "name": "stdout",
     "output_type": "stream",
     "text": [
      "Help on module my_module:\n",
      "\n",
      "NAME\n",
      "    my_module\n",
      "\n",
      "DESCRIPTION\n",
      "    Our first Python module. This initial string is a module-level documentation string.\n",
      "    It is not a necessary component of the module. It is a useful way to describe the\n",
      "    purpose of your module.\n",
      "\n",
      "FUNCTIONS\n",
      "    cube(x)\n",
      "    \n",
      "    square(x)\n",
      "\n",
      "DATA\n",
      "    some_list = ['a', 1, None]\n",
      "\n",
      "FILE\n",
      "    /Users/blank/AutoDraft/imagery/labelme_playground/my_module.py\n",
      "\n",
      "\n"
     ]
    }
   ],
   "source": [
    "help(my_module)"
   ]
  },
  {
   "cell_type": "markdown",
   "id": "placed-delight",
   "metadata": {},
   "source": [
    "### Viewing JSON data\n",
    "JSON data when loaded into python prints extra ugly. The following allows for much more readable viewing of JSON files"
   ]
  },
  {
   "cell_type": "code",
   "execution_count": 7,
   "id": "animated-drawing",
   "metadata": {},
   "outputs": [],
   "source": [
    "data = json.load(open(\"ship1.json\"))\n",
    "# print(data) ## the data prints in a difficult string fashion\n",
    "# pprint(data) ## one very quick way to print out the data. Looks okay..."
   ]
  },
  {
   "cell_type": "code",
   "execution_count": 9,
   "id": "utility-brisbane",
   "metadata": {},
   "outputs": [],
   "source": [
    "pretty_data = json.dumps(data, ensure_ascii=False, indent=4) # prints JSON beautifully with indentations\n",
    "#print(pretty_data)"
   ]
  },
  {
   "cell_type": "markdown",
   "id": "checked-sensitivity",
   "metadata": {},
   "source": [
    "### Now we need to figure out how to view/save image data"
   ]
  },
  {
   "cell_type": "markdown",
   "id": "initial-alert",
   "metadata": {},
   "source": [
    "First method will be to attmept to use code within labelme"
   ]
  },
  {
   "cell_type": "code",
   "execution_count": 10,
   "id": "fluid-corpus",
   "metadata": {},
   "outputs": [],
   "source": [
    "# Function provided in labelme source code\n",
    "def load_image_file(filename):\n",
    "    try:\n",
    "        image_pil = PIL.Image.open(filename)\n",
    "    except IOError:\n",
    "        logger.error(\"Failed opening image file: {}\".format(filename))\n",
    "        return\n",
    "\n",
    "    # apply orientation to image according to exif\n",
    "    image_pil = utils.apply_exif_orientation(image_pil)\n",
    "\n",
    "    with io.BytesIO() as f:\n",
    "        ext = osp.splitext(filename)[1].lower()\n",
    "        if PY2 and QT4:\n",
    "            format = \"PNG\"\n",
    "        elif ext in [\".jpg\", \".jpeg\"]:\n",
    "            format = \"JPEG\"\n",
    "        else:\n",
    "            format = \"PNG\"\n",
    "        image_pil.save(f, format=format)\n",
    "        f.seek(0)\n",
    "        return f.read()"
   ]
  },
  {
   "cell_type": "markdown",
   "id": "velvet-isaac",
   "metadata": {},
   "source": [
    "Now we can see how this actually works...."
   ]
  },
  {
   "cell_type": "code",
   "execution_count": 11,
   "id": "invalid-consortium",
   "metadata": {},
   "outputs": [],
   "source": [
    "data = load_image_file(\"ship1.jpg\")\n",
    "#print(data)"
   ]
  },
  {
   "cell_type": "markdown",
   "id": "korean-lawsuit",
   "metadata": {},
   "source": [
    "Now we convert image data to base64, and then decode it to utf-8 for reading"
   ]
  },
  {
   "cell_type": "code",
   "execution_count": 12,
   "id": "structured-camel",
   "metadata": {},
   "outputs": [],
   "source": [
    "new_data = base64.b64encode(data).decode(\"utf-8\")\n",
    "#print(new_data)"
   ]
  },
  {
   "cell_type": "markdown",
   "id": "objective-percentage",
   "metadata": {
    "tags": []
   },
   "source": [
    "Great success!!! The above matches the data found in the applicable json file.\n",
    "## Writing JSON files\n",
    "Now we need to figure out how to write a simple JSON file, and then create one from scratch that labelme will open...the goal is just to write one that will match the current JSON file and that labelme will then open it successfully!"
   ]
  },
  {
   "cell_type": "code",
   "execution_count": 13,
   "id": "organized-diabetes",
   "metadata": {},
   "outputs": [],
   "source": [
    "class LabelFile:\n",
    "    \n",
    "    #initializes the class\n",
    "    def __init__(self, filename=None):\n",
    "        self.shapes = []\n",
    "        self.imagePath = None\n",
    "        self.imageData = None\n",
    "        if filename is not None:\n",
    "            self.load(filename)\n",
    "        self.filename = filename\n",
    "    \n",
    "    def load(self, filename):\n",
    "        image_data = load_image_file(filename)\n",
    "        imagePath = osp.dirname(filename)+filename\n",
    "        flags = {} #this portion would need updating based on flags we want to add\n",
    "        shapes = [\n",
    "                dict(\n",
    "                    label=\"waterline\", # we would fill this with the different label strings\n",
    "                    points=[[209,77],[228,81],[228,99],[210,99],[208,88]], # x-y point of shape that is being drawn\n",
    "                    shape_type=\"polygon\", #we can dictate more shapes here but this seems to be the most robust\n",
    "                    flags={}, #flags that we create\n",
    "                    group_id=None, # used for gouping similar items\n",
    "                    other_data=None, # not really sure.....\n",
    "                ) \n",
    "                #for s in data[\"shapes\"]\n",
    "            ]\n",
    "        self.shapes = shapes\n",
    "        self.imagePath = imagePath\n",
    "        self.imageData = image_data\n",
    "        self.flags = flags\n",
    "        \n",
    "        \n",
    "    \n",
    "    #this part checks the height and width of image and stores it\n",
    "    @staticmethod\n",
    "    def _check_image_height_and_width(imageData):\n",
    "        img_arr = utils.img_b64_to_arr(imageData)\n",
    "        imageHeight = img_arr.shape[0]\n",
    "        imageWidth = img_arr.shape[1]\n",
    "        return imageHeight, imageWidth\n",
    "    \n",
    "    #this portion saves and writes the JSON file\n",
    "    def save(\n",
    "        self,\n",
    "        filename,\n",
    "        shapes,\n",
    "        imagePath,\n",
    "        imageData,\n",
    "        imageHeight=None,\n",
    "        imageWidth=None,\n",
    "        otherData=None,\n",
    "        flags=None,\n",
    "    ):\n",
    "        if imageData is not None:\n",
    "            imageData = base64.b64encode(imageData).decode(\"utf-8\")\n",
    "            imageHeight, imageWidth = self._check_image_height_and_width(imageData)\n",
    "        if otherData is None:\n",
    "            otherData = {}\n",
    "        if flags is None:\n",
    "            flags = {}\n",
    "        data = dict(\n",
    "            version=__version__,\n",
    "            flags=flags,\n",
    "            shapes=shapes,\n",
    "            imagePath=imagePath,\n",
    "            imageData=imageData,\n",
    "            imageHeight=imageHeight,\n",
    "            imageWidth=imageWidth,\n",
    "        )\n",
    "        try:\n",
    "            if filename.endswith(\".jpg\"):\n",
    "                filename = filename[:-4]\n",
    "            with open(filename+\".json\", \"w\") as f:\n",
    "                json.dump(data, f, ensure_ascii=False, indent=2)\n",
    "            #self.filename = filename\n",
    "        except Exception as e:\n",
    "            raise LabelFileError(e)\n",
    "        "
   ]
  },
  {
   "cell_type": "markdown",
   "id": "judicial-property",
   "metadata": {},
   "source": [
    "Alright now time to see what this produces"
   ]
  },
  {
   "cell_type": "code",
   "execution_count": 14,
   "id": "developed-portugal",
   "metadata": {},
   "outputs": [],
   "source": [
    "init = LabelFile(\"ship1_copy.jpg\")"
   ]
  },
  {
   "cell_type": "code",
   "execution_count": 15,
   "id": "significant-swiss",
   "metadata": {},
   "outputs": [],
   "source": [
    "init.save(init.filename, init.shapes, init.imagePath, init.imageData)"
   ]
  },
  {
   "cell_type": "markdown",
   "id": "black-secretariat",
   "metadata": {},
   "source": [
    "## Hell yeah this totally worked!!!"
   ]
  },
  {
   "cell_type": "code",
   "execution_count": 16,
   "id": "interracial-painting",
   "metadata": {},
   "outputs": [],
   "source": [
    "data = json.load(open(\"ship1_copy.json\"))\n",
    "pretty_data = json.dumps(data, ensure_ascii=False, indent=4) # prints JSON beautifully with indentations\n",
    "#print(pretty_data)"
   ]
  },
  {
   "cell_type": "markdown",
   "id": "biblical-trainer",
   "metadata": {},
   "source": [
    "## Iterating through an array"
   ]
  },
  {
   "cell_type": "code",
   "execution_count": 7,
   "id": "quiet-roulette",
   "metadata": {},
   "outputs": [],
   "source": [
    "boxes = np.array([[219,182,2,17],\n",
    " [232,173,8,12],\n",
    " [232,153,7,11],\n",
    " [231,132,6,10],\n",
    " [230,111,7,12],\n",
    " [230,92,9,9],\n",
    " [216,79,13,22],\n",
    " [208,78,6,21],\n",
    " [229,72,7,11],\n",
    " [229,53,7,10]])"
   ]
  },
  {
   "cell_type": "markdown",
   "id": "bright-cause",
   "metadata": {},
   "source": [
    "Okay, so what exactly do I want the code to do?  \n",
    "- create new array\n",
    "- array should look like $[x,\\ y,\\ x + w,\\ y + h]$. From the original boxes array this should look like [boxes[0,0], boxes[0,1], boxes[0,0] + boxes[0,2], boxes[0,1] + boxes[0,3]]\n",
    "- Iterate across each row would probable be the easiest method\n",
    "- Also want to turn this into a dictionary that can be easily used by the next section of the labelme code\n",
    "\n",
    "Pseudo code should look like:\n",
    "\n",
    "    for i in boxes:\n",
    "        go through each i row:\n",
    "            do the operations above and assign them to empty array\n",
    "    once new array is created make dictionary that matches labelme shapes dictionary\n",
    "    shapes = [\n",
    "                dict(\n",
    "                    label=\"waterline\", # we would fill this with the different label strings\n",
    "                    points=[[209,77],[228,81],[228,99],[210,99],[208,88]], # x-y point of shape that is being drawn\n",
    "                    shape_type=\"polygon\", #we can dictate more shapes here but this seems to be the most robust\n",
    "                    flags={}, #flags that we create\n",
    "                    group_id=None, # used for gouping similar items\n",
    "                    other_data=None, # not really sure.....\n",
    "                ) \n",
    "                #for s in data[\"shapes\"]\n",
    "            ]\n",
    "    return shapes dictionary\n",
    "    "
   ]
  },
  {
   "cell_type": "code",
   "execution_count": 13,
   "id": "induced-queue",
   "metadata": {},
   "outputs": [
    {
     "data": {
      "text/plain": [
       "(10, 4)"
      ]
     },
     "execution_count": 13,
     "metadata": {},
     "output_type": "execute_result"
    }
   ],
   "source": [
    "boxes.shape"
   ]
  },
  {
   "cell_type": "code",
   "execution_count": 20,
   "id": "elegant-electricity",
   "metadata": {},
   "outputs": [
    {
     "name": "stdout",
     "output_type": "stream",
     "text": [
      "232\n"
     ]
    }
   ],
   "source": [
    "print(boxes[1,0])"
   ]
  },
  {
   "cell_type": "markdown",
   "id": "humanitarian-latvia",
   "metadata": {},
   "source": [
    "Need to create a new JSON encoder to handle numpy arrays"
   ]
  },
  {
   "cell_type": "code",
   "execution_count": 59,
   "id": "empty-questionnaire",
   "metadata": {},
   "outputs": [],
   "source": [
    "class myEncoder(json.JSONEncoder):\n",
    "    # Handles the default behavior of\n",
    "    # the encoder when it parses an object 'obj'\n",
    "    def default(self, obj):\n",
    "        # If the object is a numpy array\n",
    "        if isinstance(obj, np.ndarray):\n",
    "            # Convert to Python List\n",
    "            return obj.tolist()\n",
    "        else:\n",
    "            # Let the base class Encoder handle the object\n",
    "            return json.JSONEncoder.default(self, obj)\n",
    " "
   ]
  },
  {
   "cell_type": "code",
   "execution_count": 57,
   "id": "charged-tolerance",
   "metadata": {},
   "outputs": [],
   "source": [
    "def extract_points(boxes):\n",
    "    points = np.empty(boxes.shape)\n",
    "    for i in range(0,10):\n",
    "        points[i] = [boxes[i,0], boxes[i,1], boxes[i,0] + boxes[i,2], boxes[i,1] + boxes[i,3]]\n",
    "       \n",
    "    # Now create shapes dictionary for transfer to labelme\n",
    "    shapes = [\n",
    "        dict(\n",
    "            label=\"draftmarks\",\n",
    "            points=points, # x-y point of shape that is being drawn\n",
    "            shape_type=\"polygon\", #we can dictate more shapes here but this seems to be the most robust\n",
    "            flags={}, #flags that we create\n",
    "            group_id=None, # used for gouping similar items\n",
    "            other_data=None, # not really sure.....\n",
    "        )\n",
    "    ]\n",
    "    return points, shapes"
   ]
  },
  {
   "cell_type": "code",
   "execution_count": 58,
   "id": "removed-bobby",
   "metadata": {},
   "outputs": [],
   "source": [
    "points, shapes = extract_points(boxes)"
   ]
  },
  {
   "cell_type": "code",
   "execution_count": 50,
   "id": "substantial-reading",
   "metadata": {},
   "outputs": [
    {
     "name": "stdout",
     "output_type": "stream",
     "text": [
      "[{'label': 'draftmarks', 'points': <built-in method tolist of numpy.ndarray object at 0x7f8fa1a0fe90>, 'shape_type': 'polygon', 'flags': {}, 'group_id': None, 'other_data': None}]\n"
     ]
    }
   ],
   "source": [
    "print(shapes)"
   ]
  },
  {
   "cell_type": "code",
   "execution_count": 60,
   "id": "under-million",
   "metadata": {},
   "outputs": [],
   "source": [
    "with open(\"shapes\"+\".json\", \"w\") as f:\n",
    "    json.dump(shapes, f, ensure_ascii=False, indent=2, cls=myEncoder)"
   ]
  },
  {
   "cell_type": "code",
   "execution_count": 62,
   "id": "effective-weapon",
   "metadata": {},
   "outputs": [
    {
     "name": "stdout",
     "output_type": "stream",
     "text": [
      "[\n",
      "    {\n",
      "        \"label\": \"draftmarks\",\n",
      "        \"points\": [\n",
      "            [\n",
      "                219.0,\n",
      "                182.0,\n",
      "                221.0,\n",
      "                199.0\n",
      "            ],\n",
      "            [\n",
      "                232.0,\n",
      "                173.0,\n",
      "                240.0,\n",
      "                185.0\n",
      "            ],\n",
      "            [\n",
      "                232.0,\n",
      "                153.0,\n",
      "                239.0,\n",
      "                164.0\n",
      "            ],\n",
      "            [\n",
      "                231.0,\n",
      "                132.0,\n",
      "                237.0,\n",
      "                142.0\n",
      "            ],\n",
      "            [\n",
      "                230.0,\n",
      "                111.0,\n",
      "                237.0,\n",
      "                123.0\n",
      "            ],\n",
      "            [\n",
      "                230.0,\n",
      "                92.0,\n",
      "                239.0,\n",
      "                101.0\n",
      "            ],\n",
      "            [\n",
      "                216.0,\n",
      "                79.0,\n",
      "                229.0,\n",
      "                101.0\n",
      "            ],\n",
      "            [\n",
      "                208.0,\n",
      "                78.0,\n",
      "                214.0,\n",
      "                99.0\n",
      "            ],\n",
      "            [\n",
      "                229.0,\n",
      "                72.0,\n",
      "                236.0,\n",
      "                83.0\n",
      "            ],\n",
      "            [\n",
      "                229.0,\n",
      "                53.0,\n",
      "                236.0,\n",
      "                63.0\n",
      "            ]\n",
      "        ],\n",
      "        \"shape_type\": \"polygon\",\n",
      "        \"flags\": {},\n",
      "        \"group_id\": null,\n",
      "        \"other_data\": null\n",
      "    }\n",
      "]\n"
     ]
    }
   ],
   "source": [
    "pretty_shapes = json.dumps(shapes, ensure_ascii=False, indent=4, cls=myEncoder)\n",
    "print(pretty_shapes)"
   ]
  },
  {
   "cell_type": "code",
   "execution_count": null,
   "id": "synthetic-chemical",
   "metadata": {},
   "outputs": [],
   "source": []
  }
 ],
 "metadata": {
  "kernelspec": {
   "display_name": "Python 3",
   "language": "python",
   "name": "python3"
  },
  "language_info": {
   "codemirror_mode": {
    "name": "ipython",
    "version": 3
   },
   "file_extension": ".py",
   "mimetype": "text/x-python",
   "name": "python",
   "nbconvert_exporter": "python",
   "pygments_lexer": "ipython3",
   "version": "3.7.9"
  },
  "toc-autonumbering": false,
  "toc-showcode": false,
  "toc-showmarkdowntxt": false,
  "toc-showtags": false
 },
 "nbformat": 4,
 "nbformat_minor": 5
}
